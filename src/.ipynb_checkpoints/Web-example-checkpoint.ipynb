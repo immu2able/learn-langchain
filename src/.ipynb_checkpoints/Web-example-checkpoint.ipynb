{
 "cells": [
  {
   "cell_type": "code",
   "execution_count": 1,
   "id": "7f64f41b-6fef-411d-a1c8-9b9a7f4260df",
   "metadata": {},
   "outputs": [],
   "source": [
    "from langchain_community.llms import Ollama\n",
    "llm = Ollama(model=\"llama2\")"
   ]
  },
  {
   "cell_type": "code",
   "execution_count": 2,
   "id": "d6bd0db6-2a60-493d-838e-94e54804d4f3",
   "metadata": {},
   "outputs": [],
   "source": [
    "from langchain_community.document_loaders import WebBaseLoader\n",
    "loader = WebBaseLoader(\"https://docs.smith.langchain.com\")\n",
    "\n",
    "docs = loader.load()"
   ]
  },
  {
   "cell_type": "code",
   "execution_count": 3,
   "id": "c0433c6c-4514-4e1e-a5aa-9b0d496afc1b",
   "metadata": {},
   "outputs": [],
   "source": [
    "from langchain_community.embeddings import OllamaEmbeddings\n",
    "\n",
    "embeddings = OllamaEmbeddings()"
   ]
  },
  {
   "cell_type": "code",
   "execution_count": 4,
   "id": "762b7cdb-1c9b-4d6d-a92b-a01c3312a47d",
   "metadata": {},
   "outputs": [],
   "source": [
    "from langchain_community.vectorstores import FAISS\n",
    "from langchain.text_splitter import RecursiveCharacterTextSplitter\n",
    "\n",
    "\n",
    "text_splitter = RecursiveCharacterTextSplitter()\n",
    "documents = text_splitter.split_documents(docs)\n",
    "vector = FAISS.from_documents(documents, embeddings)"
   ]
  },
  {
   "cell_type": "code",
   "execution_count": 6,
   "id": "ec99dc0c-1457-4e62-8012-b473f5af2828",
   "metadata": {},
   "outputs": [],
   "source": [
    "from langchain.chains.combine_documents import create_stuff_documents_chain\n",
    "from langchain_core.prompts import ChatPromptTemplate\n",
    "\n",
    "\n",
    "prompt = ChatPromptTemplate.from_template(\"\"\"Answer the following question based only on the provided context:\n",
    "\n",
    "<context>\n",
    "{context}\n",
    "</context>\n",
    "\n",
    "Question: {input}\"\"\")\n",
    "\n",
    "document_chain = create_stuff_documents_chain(llm, prompt)"
   ]
  },
  {
   "cell_type": "code",
   "execution_count": 7,
   "id": "2e468b84-c390-4ed7-bf03-12070ec16b8f",
   "metadata": {},
   "outputs": [
    {
     "data": {
      "text/plain": [
       "'\\nBased on the provided context, langsmith can help with testing by allowing users to visualize their test results. This means that langsmith provides a tool for displaying and analyzing the output of tests, making it easier for developers and testers to understand the results of their tests and identify any issues or problems.'"
      ]
     },
     "execution_count": 7,
     "metadata": {},
     "output_type": "execute_result"
    }
   ],
   "source": [
    "from langchain_core.documents import Document\n",
    "\n",
    "document_chain.invoke({\n",
    "    \"input\": \"how can langsmith help with testing?\",\n",
    "    \"context\": [Document(page_content=\"langsmith can let you visualize test results\")]\n",
    "})"
   ]
  },
  {
   "cell_type": "code",
   "execution_count": 8,
   "id": "af8c74e5-7c52-4cf1-8f87-f9d24c6d373c",
   "metadata": {},
   "outputs": [],
   "source": [
    "from langchain.chains import create_retrieval_chain\n",
    "\n",
    "retriever = vector.as_retriever()\n",
    "retrieval_chain = create_retrieval_chain(retriever, document_chain)"
   ]
  },
  {
   "cell_type": "code",
   "execution_count": 9,
   "id": "277d919c-749d-4c8b-9bd9-1cfb3eea34f2",
   "metadata": {},
   "outputs": [
    {
     "name": "stdout",
     "output_type": "stream",
     "text": [
      "Based on the provided context, LangSmith can help with testing in several ways:\n",
      "\n",
      "1. Evaluation: LangSmith provides evaluation capabilities that allow you to test and assess the performance of your LLM applications.\n",
      "2. Tracing: LangSmith offers tracing features that enable you to track and monitor the behavior of your LLM applications during testing.\n",
      "3. Prompt Hub: LangSmith's Prompt Hub is a prompt management tool that allows you to manage and test your LLM applications' prompts, which can help improve their performance and functionality.\n",
      "4. Integration with LangChain: LangSmith seamlessly integrates with the open-source LangChain framework, which provides a range of tools and libraries for building and testing LLM applications.\n",
      "5. Debugging: LangSmith's debugging capabilities allow you to identify and fix issues in your LLM applications during testing.\n",
      "\n",
      "Overall, LangSmith provides a comprehensive platform for testing and evaluating LLM applications, making it easier to develop and deploy high-performing and reliable AI models.\n"
     ]
    }
   ],
   "source": [
    "response = retrieval_chain.invoke({\"input\": \"how can langsmith help with testing?\"})\n",
    "print(response[\"answer\"])\n",
    "\n",
    "# LangSmith offers several features that can help with testing:..."
   ]
  },
  {
   "cell_type": "code",
   "execution_count": 10,
   "id": "29c24e5a-5cfc-4074-b9bb-2f2aa823202a",
   "metadata": {},
   "outputs": [
    {
     "name": "stdout",
     "output_type": "stream",
     "text": [
      "According to the provided context, LangSmith has the following devops capabilities:\n",
      "\n",
      "1. Tracing: LangSmith provides tracing capabilities for LLM applications, allowing developers to debug and monitor their applications more effectively.\n",
      "2. Evaluation: LangSmith offers evaluation capabilities for LLM applications, enabling developers to test and evaluate their applications before deploying them in production.\n",
      "3. Self-Hosting: LangSmith provides self-hosting options for LLM applications, allowing developers to host their applications on their own servers or cloud infrastructure.\n",
      "4. Prompt Hub: LangSmith includes a prompt management tool called the Prompt Hub, which allows developers to manage and organize prompts within their LLM applications.\n"
     ]
    }
   ],
   "source": [
    "response = retrieval_chain.invoke({\"input\": \"what are the devops capabilities of langsmith?\"})\n",
    "print(response[\"answer\"])"
   ]
  },
  {
   "cell_type": "code",
   "execution_count": null,
   "id": "75dc5578-e6c7-4b31-936e-58eadf3af71d",
   "metadata": {},
   "outputs": [],
   "source": []
  }
 ],
 "metadata": {
  "kernelspec": {
   "display_name": "Python 3 (ipykernel)",
   "language": "python",
   "name": "python3"
  },
  "language_info": {
   "codemirror_mode": {
    "name": "ipython",
    "version": 3
   },
   "file_extension": ".py",
   "mimetype": "text/x-python",
   "name": "python",
   "nbconvert_exporter": "python",
   "pygments_lexer": "ipython3",
   "version": "3.11.2"
  }
 },
 "nbformat": 4,
 "nbformat_minor": 5
}
